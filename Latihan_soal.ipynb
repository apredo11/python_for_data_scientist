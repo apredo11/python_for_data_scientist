{
  "nbformat": 4,
  "nbformat_minor": 0,
  "metadata": {
    "colab": {
      "provenance": [],
      "toc_visible": true,
      "include_colab_link": true
    },
    "kernelspec": {
      "name": "python3",
      "display_name": "Python 3"
    },
    "language_info": {
      "name": "python"
    }
  },
  "cells": [
    {
      "cell_type": "markdown",
      "metadata": {
        "id": "view-in-github",
        "colab_type": "text"
      },
      "source": [
        "<a href=\"https://colab.research.google.com/github/apredo11/python_for_data_scientist/blob/main/Latihan_soal.ipynb\" target=\"_parent\"><img src=\"https://colab.research.google.com/assets/colab-badge.svg\" alt=\"Open In Colab\"/></a>"
      ]
    },
    {
      "cell_type": "markdown",
      "source": [
        "# Latihan"
      ],
      "metadata": {
        "id": "357gqKeCSKnS"
      }
    },
    {
      "cell_type": "code",
      "source": [
        "# Input: Gaji per jam dan jumlah jam kerja\n",
        "gaji_per_jam = float(input(\"Masukkan gaji per jam Budi (Rp): \"))\n",
        "jumlah_jam_kerja = float(input(\"Masukkan jumlah jam kerja Budi selama liburan: \"))\n"
      ],
      "metadata": {
        "colab": {
          "base_uri": "https://localhost:8080/"
        },
        "id": "LaRXg0gQSRY_",
        "outputId": "759840b7-6ccb-40d2-9e92-add36044ac26"
      },
      "execution_count": 2,
      "outputs": [
        {
          "name": "stdout",
          "output_type": "stream",
          "text": [
            "Masukkan gaji per jam Budi (Rp): 100000\n",
            "Masukkan jumlah jam kerja Budi selama liburan: 150\n"
          ]
        }
      ]
    },
    {
      "cell_type": "code",
      "source": [
        "# 1. Pendapatan Budi sebelum pajak\n",
        "pendapatan_sebelum_pajak = gaji_per_jam * jumlah_jam_kerja\n",
        "print(f\"1. Pendapatan sebelum pajak: Rp {pendapatan_sebelum_pajak:.2f}\")"
      ],
      "metadata": {
        "colab": {
          "base_uri": "https://localhost:8080/"
        },
        "id": "d9rGXVjLTJWh",
        "outputId": "38f53a0e-1586-4d20-fa5b-5604c8b0805c"
      },
      "execution_count": 3,
      "outputs": [
        {
          "output_type": "stream",
          "name": "stdout",
          "text": [
            "1. Pendapatan sebelum pajak: Rp 15000000.00\n"
          ]
        }
      ]
    },
    {
      "cell_type": "code",
      "source": [
        "# 2. Pendapatan Budi setelah pajak 14%\n",
        "pendapatan_setelah_pajak = pendapatan_sebelum_pajak * 0.86\n",
        "print(f\"2. Pendapatan setelah pajak: Rp {pendapatan_setelah_pajak:.2f}\")"
      ],
      "metadata": {
        "colab": {
          "base_uri": "https://localhost:8080/"
        },
        "id": "IlDM0rHaTND0",
        "outputId": "61093dc4-4e9f-4f76-f275-8afe9f19ebdf"
      },
      "execution_count": 4,
      "outputs": [
        {
          "output_type": "stream",
          "name": "stdout",
          "text": [
            "2. Pendapatan setelah pajak: Rp 12900000.00\n"
          ]
        }
      ]
    },
    {
      "cell_type": "code",
      "source": [
        "# 3. Jumlah uang untuk membeli pakaian dan aksesoris (10% dari pendapatan bersih)\n",
        "pakaian_aksesoris = pendapatan_setelah_pajak * 0.10\n",
        "print(f\"3. Uang untuk pakaian dan aksesoris: Rp {pakaian_aksesoris:.2f}\")\n"
      ],
      "metadata": {
        "colab": {
          "base_uri": "https://localhost:8080/"
        },
        "id": "wxaJvc1-TPir",
        "outputId": "fe9c74d5-7e2b-4677-dffd-853b1811f27c"
      },
      "execution_count": 5,
      "outputs": [
        {
          "output_type": "stream",
          "name": "stdout",
          "text": [
            "3. Uang untuk pakaian dan aksesoris: Rp 1290000.00\n"
          ]
        }
      ]
    },
    {
      "cell_type": "code",
      "source": [
        "# 4. Jumlah uang untuk membeli alat tulis (1% dari pendapatan bersih)\n",
        "alat_tulis = pendapatan_setelah_pajak * 0.01\n",
        "print(f\"4. Uang untuk alat tulis: Rp {alat_tulis:.2f}\")"
      ],
      "metadata": {
        "colab": {
          "base_uri": "https://localhost:8080/"
        },
        "id": "_IxNhWGrTRqL",
        "outputId": "9a051cde-b7e2-4d73-9867-afbfaea0874e"
      },
      "execution_count": 6,
      "outputs": [
        {
          "output_type": "stream",
          "name": "stdout",
          "text": [
            "4. Uang untuk alat tulis: Rp 129000.00\n"
          ]
        }
      ]
    },
    {
      "cell_type": "code",
      "source": [
        "# 5. Jumlah uang yang akan disedekahkan (25% dari sisa uang setelah belanja)\n",
        "sisa_setelah_belanja = pendapatan_setelah_pajak - (pakaian_aksesoris + alat_tulis)\n",
        "sedekah = sisa_setelah_belanja * 0.25\n",
        "print(f\"5. Jumlah uang yang akan disedekahkan: Rp {sedekah:.2f}\")"
      ],
      "metadata": {
        "colab": {
          "base_uri": "https://localhost:8080/"
        },
        "id": "OkNRR11XTTyA",
        "outputId": "ec4c1185-338f-44cb-a334-80711feb377e"
      },
      "execution_count": 7,
      "outputs": [
        {
          "output_type": "stream",
          "name": "stdout",
          "text": [
            "5. Jumlah uang yang akan disedekahkan: Rp 2870250.00\n"
          ]
        }
      ]
    },
    {
      "cell_type": "code",
      "source": [
        "# 6. Jumlah uang untuk anak yatim (30% dari sedekah)\n",
        "anak_yatim = sedekah * 0.30\n",
        "print(f\"6. Jumlah uang untuk anak yatim: Rp {anak_yatim:.2f}\")"
      ],
      "metadata": {
        "colab": {
          "base_uri": "https://localhost:8080/"
        },
        "id": "atYVXTYaTVuX",
        "outputId": "79e323cd-c033-4ba8-c6a3-15b55a54a840"
      },
      "execution_count": 8,
      "outputs": [
        {
          "output_type": "stream",
          "name": "stdout",
          "text": [
            "6. Jumlah uang untuk anak yatim: Rp 861075.00\n"
          ]
        }
      ]
    },
    {
      "cell_type": "code",
      "source": [
        "# 7. Jumlah uang untuk kaum dhuafa (70% dari sedekah)\n",
        "kaum_dhuafa = sedekah * 0.70\n",
        "print(f\"7. Jumlah uang untuk kaum dhuafa: Rp {kaum_dhuafa:.2f}\")"
      ],
      "metadata": {
        "colab": {
          "base_uri": "https://localhost:8080/"
        },
        "id": "jn2d_oHwTdhd",
        "outputId": "75414cef-39a8-427e-e54b-cd89e5b9a150"
      },
      "execution_count": 9,
      "outputs": [
        {
          "output_type": "stream",
          "name": "stdout",
          "text": [
            "7. Jumlah uang untuk kaum dhuafa: Rp 2009175.00\n"
          ]
        }
      ]
    }
  ]
}