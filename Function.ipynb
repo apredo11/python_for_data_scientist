{
  "cells": [
    {
      "cell_type": "markdown",
      "metadata": {
        "id": "view-in-github",
        "colab_type": "text"
      },
      "source": [
        "<a href=\"https://colab.research.google.com/github/apredo11/python_for_data_scientist/blob/main/Copy_of_Function.ipynb\" target=\"_parent\"><img src=\"https://colab.research.google.com/assets/colab-badge.svg\" alt=\"Open In Colab\"/></a>"
      ]
    },
    {
      "cell_type": "markdown",
      "metadata": {
        "id": "EaeYhtq4ePtY"
      },
      "source": [
        "**@create By : Dede Brahma Arianto S.Kom., M.Kom**"
      ]
    },
    {
      "cell_type": "markdown",
      "metadata": {
        "id": "p6zUQtU8GYm1"
      },
      "source": [
        "# Function"
      ]
    },
    {
      "cell_type": "code",
      "execution_count": null,
      "metadata": {
        "id": "qBggfmOYGJL1"
      },
      "outputs": [],
      "source": [
        "#@title fungsi sederhana\n",
        "\n",
        "def coba_fungsi(): #definisi nama fungsi\n",
        "\tprint(\"ini adalah fungsi\") #proses dari fungsi\n"
      ]
    },
    {
      "cell_type": "code",
      "execution_count": null,
      "metadata": {
        "colab": {
          "base_uri": "https://localhost:8080/"
        },
        "id": "qOIFERV8GhZl",
        "outputId": "b3122ac8-b601-4fb1-bd2b-a7b433d77de8"
      },
      "outputs": [
        {
          "name": "stdout",
          "output_type": "stream",
          "text": [
            "ini adalah fungsi\n"
          ]
        }
      ],
      "source": [
        "coba_fungsi() #panggil nama fungsi"
      ]
    },
    {
      "cell_type": "code",
      "execution_count": null,
      "metadata": {
        "id": "S2KyWp9YGjqv"
      },
      "outputs": [],
      "source": [
        "#@title fungsi dengan return\n",
        "\n",
        "def coba_fungsi2():\n",
        "\tvar_tes = \"ini adalah fungsi\"\n",
        "\treturn var_tes\n"
      ]
    },
    {
      "cell_type": "code",
      "execution_count": null,
      "metadata": {
        "colab": {
          "base_uri": "https://localhost:8080/"
        },
        "id": "FPy0q0tzGlFL",
        "outputId": "db4b6253-8683-444e-bc77-667c5cc49246"
      },
      "outputs": [
        {
          "name": "stdout",
          "output_type": "stream",
          "text": [
            "Hasil fungsi adalah:  ini adalah fungsi\n"
          ]
        }
      ],
      "source": [
        "hasil = coba_fungsi2()\n",
        "print(\"Hasil fungsi adalah: \", hasil)\n",
        "\n",
        "# print(\"Hasil fungsi adalah: \", coba_fungsi2())"
      ]
    },
    {
      "cell_type": "code",
      "execution_count": null,
      "metadata": {
        "colab": {
          "base_uri": "https://localhost:8080/"
        },
        "id": "RmtPmuYVGmX5",
        "outputId": "9c3dcec6-4125-434c-8445-d0ddaa928451"
      },
      "outputs": [
        {
          "name": "stdout",
          "output_type": "stream",
          "text": [
            "Hasil 1 :  ini isi variabel 1\n",
            "Hasil 2 :  ini isi variabel 2\n"
          ]
        }
      ],
      "source": [
        "#@title fungsi dengan 2 return\n",
        "\n",
        "def coba_fungsi3():\n",
        "  var_1 = \"ini isi variabel 1\"\n",
        "  var_2 = \"ini isi variabel 2\"\n",
        "  return var_1, var_2\n",
        "\n",
        "hasil1, hasil2 = coba_fungsi3()\n",
        "print(\"Hasil 1 : \", hasil1)\n",
        "print(\"Hasil 2 : \", hasil2)\n",
        "\n",
        "# hasil1 = coba_fungsi3()\n",
        "# print(\"Hasil 1 : \", hasil1)"
      ]
    },
    {
      "cell_type": "code",
      "execution_count": null,
      "metadata": {
        "id": "bTnENICIGn79"
      },
      "outputs": [],
      "source": [
        "#@title fungsi dengan argument\n",
        "\n",
        "def coba_fungsi4(a, b):\n",
        "  var_a = a\n",
        "  var_b = b\n",
        "  var_c = var_a + var_b\n",
        "  return var_c"
      ]
    },
    {
      "cell_type": "code",
      "execution_count": null,
      "metadata": {
        "colab": {
          "background_save": true,
          "base_uri": "https://localhost:8080/",
          "height": 193
        },
        "id": "rQ1H1E_AGpCe",
        "outputId": "35cf9d30-ac9f-4840-afdb-6d8c906889b5"
      },
      "outputs": [
        {
          "name": "stdout",
          "output_type": "stream",
          "text": [
            "Hasil penjumlahan:  15\n"
          ]
        }
      ],
      "source": [
        "nilai_1 = 5\n",
        "nilai_2 = 10\n",
        "\n",
        "hasil_nilai = coba_fungsi4(nilai_1, nilai_2)\n",
        "print(\"Hasil penjumlahan: \", hasil_nilai)"
      ]
    },
    {
      "cell_type": "code",
      "execution_count": null,
      "metadata": {
        "colab": {
          "base_uri": "https://localhost:8080/"
        },
        "id": "5zggasEgGqY8",
        "outputId": "d0787e01-5f1d-472a-8b9c-3f5d9a45b46c"
      },
      "outputs": [
        {
          "output_type": "stream",
          "name": "stdout",
          "text": [
            "Hasil penjumlahan:  25\n"
          ]
        }
      ],
      "source": [
        "hasil_nilai = coba_fungsi4(20, 5)\n",
        "print(\"Hasil penjumlahan: \", hasil_nilai)"
      ]
    },
    {
      "cell_type": "code",
      "execution_count": null,
      "metadata": {
        "colab": {
          "base_uri": "https://localhost:8080/"
        },
        "id": "8gbpWc2dGsIl",
        "outputId": "01e8e8e9-26b7-4eef-a359-90d86032e3d8"
      },
      "outputs": [
        {
          "output_type": "stream",
          "name": "stdout",
          "text": [
            "masukkan nilai 1 = 10\n",
            "masukkan nilai 2= 3\n",
            "Hasil penjumlahan:  103\n"
          ]
        }
      ],
      "source": [
        "hasil_nilai = coba_fungsi4(input(\"masukkan nilai 1 = \"), input(\"masukkan nilai 2= \"))\n",
        "print(\"Hasil penjumlahan: \", hasil_nilai)"
      ]
    },
    {
      "cell_type": "code",
      "execution_count": null,
      "metadata": {
        "colab": {
          "base_uri": "https://localhost:8080/"
        },
        "id": "nIpW8M_yGtmZ",
        "outputId": "4b8dbc73-0058-4aa7-e5f7-dafa87baf0e0"
      },
      "outputs": [
        {
          "name": "stdout",
          "output_type": "stream",
          "text": [
            "Hasil 1 :  20\n",
            "Hasil 2 :  12\n"
          ]
        }
      ],
      "source": [
        "#@title fungsi dengan 2 argument dan 2 return\n",
        "\n",
        "def coba_fungsi5(a, b):\n",
        "  var_a = a * 2\n",
        "  var_b = b * 4\n",
        "  return var_a, var_b\n",
        "\n",
        "hasil1, hasil2 = coba_fungsi5(10, 3)\n",
        "print(\"Hasil 1 : \", hasil1)\n",
        "print(\"Hasil 2 : \", hasil2)"
      ]
    },
    {
      "cell_type": "markdown",
      "metadata": {
        "id": "KPQBC3qWGwHT"
      },
      "source": [
        "### Fungsi dengan *args"
      ]
    },
    {
      "cell_type": "markdown",
      "metadata": {
        "id": "T-xbthUrGxUr"
      },
      "source": [
        "Untuk args menggunakan satu tanda bintang \"*\" Dapat diartikan bahwa def function(*args) akan mengambil seluruh nilai dalam input mengikuti posisi yang sudah ditentukan sebagai variabelnya."
      ]
    },
    {
      "cell_type": "code",
      "execution_count": null,
      "metadata": {
        "id": "ySBjDg2cGzXz"
      },
      "outputs": [],
      "source": [
        "def coba_fungsi6(*args):\n",
        "  print(args)"
      ]
    },
    {
      "cell_type": "code",
      "execution_count": null,
      "metadata": {
        "colab": {
          "base_uri": "https://localhost:8080/"
        },
        "id": "Z9P2OVKTG3pf",
        "outputId": "d7c8e33d-a449-400e-e9a5-ffd16eb1f680"
      },
      "outputs": [
        {
          "name": "stdout",
          "output_type": "stream",
          "text": [
            "('apple', 'banana', 'cherry', 'semangka')\n"
          ]
        }
      ],
      "source": [
        "coba_fungsi6(\"apple\", \"banana\", \"cherry\", \"semangka\")"
      ]
    },
    {
      "cell_type": "code",
      "execution_count": null,
      "metadata": {
        "colab": {
          "base_uri": "https://localhost:8080/"
        },
        "id": "vOqKgtkrG5XX",
        "outputId": "4c8bcd7d-0c1b-4274-9ed8-fb334df559c8"
      },
      "outputs": [
        {
          "name": "stdout",
          "output_type": "stream",
          "text": [
            "apple\n",
            "banana\n",
            "cherry\n"
          ]
        }
      ],
      "source": [
        "def coba_fungsi7(*args):\n",
        "  for y in args:\n",
        "    x = y\n",
        "    print(x)\n",
        "\n",
        "\n",
        "coba_fungsi7(\"apple\", \"banana\", \"cherry\")"
      ]
    },
    {
      "cell_type": "code",
      "execution_count": null,
      "metadata": {
        "colab": {
          "base_uri": "https://localhost:8080/"
        },
        "id": "A4cbF9L7G6mv",
        "outputId": "b7287f0e-90ae-4e84-df4a-8820a69c2668"
      },
      "outputs": [
        {
          "name": "stdout",
          "output_type": "stream",
          "text": [
            "apple\n",
            "banana\n",
            "cherry\n"
          ]
        }
      ],
      "source": [
        "fruits = [\"apple\", \"banana\", \"cherry\"]\n",
        "\n",
        "def coba_fungsi8(*buah):\n",
        "  for item in buah:\n",
        "    for i in item:\n",
        "      print(i)\n",
        "\n",
        "\n",
        "coba_fungsi8(fruits)"
      ]
    },
    {
      "cell_type": "markdown",
      "metadata": {
        "id": "DHsUTBdEG8O9"
      },
      "source": [
        "### Fungsi dengan **kwargs"
      ]
    },
    {
      "cell_type": "markdown",
      "metadata": {
        "id": "1Z43mjSlG8yZ"
      },
      "source": [
        "Untuk kargs menggunakan satu tanda bintang \"**\" Dapat diartikan bahwa def function(**kwargs) akan mengambil seluruh nilai dalam key dan valuenya yang ada dalam variabel."
      ]
    },
    {
      "cell_type": "code",
      "execution_count": null,
      "metadata": {
        "id": "mx6iD6AqG-Za"
      },
      "outputs": [],
      "source": [
        "def coba_fungsi9(**kwargs):\n",
        "  print(kwargs)"
      ]
    },
    {
      "cell_type": "code",
      "execution_count": null,
      "metadata": {
        "colab": {
          "base_uri": "https://localhost:8080/"
        },
        "id": "4YTKY6kQG_ti",
        "outputId": "8845b31c-461f-456a-fc86-6bdb9229c03e"
      },
      "outputs": [
        {
          "name": "stdout",
          "output_type": "stream",
          "text": [
            "{'item1': 'apple', 'item2': 'banana', 'item3': 'cherry'}\n"
          ]
        }
      ],
      "source": [
        "coba_fungsi9(item1 = \"apple\", item2 = \"banana\", item3 = \"cherry\")"
      ]
    },
    {
      "cell_type": "code",
      "execution_count": null,
      "metadata": {
        "colab": {
          "base_uri": "https://localhost:8080/"
        },
        "id": "Qpj-_cddHBKX",
        "outputId": "46e9aa4f-ec25-4855-b95c-87c82f406a8d"
      },
      "outputs": [
        {
          "name": "stdout",
          "output_type": "stream",
          "text": [
            "item1: apple\n",
            "item2: banana\n",
            "item3: cherry\n"
          ]
        }
      ],
      "source": [
        "def coba_fungsi10(**kwargs):\n",
        "  for key in kwargs:\n",
        "    print(key + \": \" + kwargs[key])\n",
        "\n",
        "\n",
        "coba_fungsi10(item1 = \"apple\", item2 = \"banana\", item3 = \"cherry\")"
      ]
    },
    {
      "cell_type": "code",
      "execution_count": null,
      "metadata": {
        "colab": {
          "base_uri": "https://localhost:8080/"
        },
        "id": "d23aXcS9HDah",
        "outputId": "3e4e7883-3a73-4afb-fbc7-f8c3fe5b2568"
      },
      "outputs": [
        {
          "name": "stdout",
          "output_type": "stream",
          "text": [
            "nama: Dede\n",
            "jurusan: IT\n",
            "semester: 5\n"
          ]
        }
      ],
      "source": [
        "mahasiswa = {\"nama\": \"Dede\", \"jurusan\": \"IT\", \"semester\": \"5\"}\n",
        "\n",
        "def coba_fungsi11(**data_mhs):\n",
        "  for key in data_mhs:\n",
        "    print(key + \": \" + data_mhs[key])\n",
        "\n",
        "\n",
        "coba_fungsi11(**mahasiswa)"
      ]
    },
    {
      "cell_type": "markdown",
      "metadata": {
        "id": "tAYRIUljLwa1"
      },
      "source": [
        "## Nested Function (Closure)"
      ]
    },
    {
      "cell_type": "code",
      "execution_count": null,
      "metadata": {
        "id": "HwB5kjCOKWX1"
      },
      "outputs": [],
      "source": [
        "def hitung_rata_rata(nilai1, nilai2, nilai3):\n",
        "\n",
        "  def update_nilai():\n",
        "    update1 = nilai1 + 2\n",
        "    update2 = nilai2 + 3\n",
        "    update3 = nilai3 + 4\n",
        "    return update1, update2, update3\n",
        "\n",
        "  hasil = update_nilai()\n",
        "  return hasil\n"
      ]
    },
    {
      "cell_type": "code",
      "execution_count": null,
      "metadata": {
        "colab": {
          "base_uri": "https://localhost:8080/"
        },
        "id": "GH7vlrEFLTyN",
        "outputId": "28a9a70a-221e-4e9b-96c8-e5a1a8d47a6c"
      },
      "outputs": [
        {
          "name": "stdout",
          "output_type": "stream",
          "text": [
            "Hasil rata-rata:  (7, 13, 19)\n"
          ]
        }
      ],
      "source": [
        "a = 5\n",
        "b = 10\n",
        "c = 15\n",
        "\n",
        "rata_rata = hitung_rata_rata(a, b, c)\n",
        "print(\"Hasil rata-rata: \", rata_rata)"
      ]
    },
    {
      "cell_type": "markdown",
      "metadata": {
        "id": "g1iQ2Ra0MfVg"
      },
      "source": [
        "## Fungsi Default Parameter"
      ]
    },
    {
      "cell_type": "code",
      "execution_count": null,
      "metadata": {
        "colab": {
          "base_uri": "https://localhost:8080/"
        },
        "id": "DQXbLeKsMEDW",
        "outputId": "d4130895-74ca-427c-fb71-0a4465d180bb"
      },
      "outputs": [
        {
          "name": "stdout",
          "output_type": "stream",
          "text": [
            "Nama:  Dede\n",
            "Umur:  20\n"
          ]
        }
      ],
      "source": [
        "def coba_fungsi12(nama, umur=20):\n",
        "  print(\"Nama: \", nama)\n",
        "  print(\"Umur: \", umur)\n",
        "\n",
        "coba_fungsi12(\"Dede\")"
      ]
    },
    {
      "cell_type": "markdown",
      "metadata": {
        "id": "7DItXyZ3XOW6"
      },
      "source": [
        "## Fungsi Kombinasi Arguments"
      ]
    },
    {
      "cell_type": "code",
      "execution_count": null,
      "metadata": {
        "colab": {
          "base_uri": "https://localhost:8080/"
        },
        "id": "nOveo-LjWqQK",
        "outputId": "fef2e894-7d02-4bac-baa5-274409173e44"
      },
      "outputs": [
        {
          "name": "stdout",
          "output_type": "stream",
          "text": [
            "message: hello world\n",
            "params: (1, True, (\"yesn't\", 'nope'))\n",
            "others: {'say_something': 'how are you', 'name': 'nokia 3310', 'discontinued': True, 'year_released': 2000}\n"
          ]
        }
      ],
      "source": [
        "def coba_fungsi13(message, *params,  **others):\n",
        "    print(f\"message: {message}\")\n",
        "    print(f\"params: {params}\")\n",
        "    print(f\"others: {others}\")\n",
        "\n",
        "coba_fungsi13(\"hello world\", 1, True, (\"yesn't\", \"nope\"), say_something=\"how are you\", name=\"nokia 3310\", discontinued=True, year_released=2000)"
      ]
    },
    {
      "cell_type": "markdown",
      "metadata": {
        "id": "ZA2lk1rPYXiw"
      },
      "source": [
        "## Fungsi dengan Matrix"
      ]
    },
    {
      "cell_type": "code",
      "execution_count": null,
      "metadata": {
        "id": "NVCQK8vdYZ7M"
      },
      "outputs": [],
      "source": [
        "def coba_fungsi14(matrix=[]):\n",
        "    if len(matrix) == 0:\n",
        "        print(\"[]\")\n",
        "\n",
        "    for item in matrix:\n",
        "        print(item)\n"
      ]
    },
    {
      "cell_type": "code",
      "execution_count": null,
      "metadata": {
        "colab": {
          "base_uri": "https://localhost:8080/"
        },
        "id": "uhlU5I5_Y5x5",
        "outputId": "788058c9-bd40-40d4-ecda-29f1475f360f"
      },
      "outputs": [
        {
          "name": "stdout",
          "output_type": "stream",
          "text": [
            "Output matrix 1:\n",
            "[]\n"
          ]
        }
      ],
      "source": [
        "print(\"Output matrix 1:\")\n",
        "coba_fungsi14()"
      ]
    },
    {
      "cell_type": "code",
      "execution_count": null,
      "metadata": {
        "colab": {
          "base_uri": "https://localhost:8080/"
        },
        "id": "6oskc_7xY_HO",
        "outputId": "85d341a3-631a-4cd5-fee5-1e73a0e83eac"
      },
      "outputs": [
        {
          "name": "stdout",
          "output_type": "stream",
          "text": [
            "Output matrix 2:\n",
            "[1, 2]\n",
            "[5, 6]\n"
          ]
        }
      ],
      "source": [
        "print(\"Output matrix 2:\")\n",
        "coba_fungsi14([\n",
        "    [1, 2],\n",
        "    [5, 6],\n",
        "])"
      ]
    },
    {
      "cell_type": "markdown",
      "metadata": {
        "id": "Zxucez2dasqC"
      },
      "source": [
        "## Fungsi dengan Agregator"
      ]
    },
    {
      "cell_type": "code",
      "execution_count": null,
      "metadata": {
        "id": "t-P2wE7bcJkP"
      },
      "outputs": [],
      "source": [
        "def aggregate(perintah, nilai, action):\n",
        "    res = action(nilai)\n",
        "    print(\"Hasil agregate\", perintah, \":\", res)"
      ]
    },
    {
      "cell_type": "code",
      "execution_count": null,
      "metadata": {
        "colab": {
          "base_uri": "https://localhost:8080/"
        },
        "id": "fRuXfpu1bEVE",
        "outputId": "ac7db5e9-b1cf-4936-d6e7-42e44af1b2dd"
      },
      "outputs": [
        {
          "name": "stdout",
          "output_type": "stream",
          "text": [
            "Hasil agregate total : 264\n"
          ]
        }
      ],
      "source": [
        "aggregate(\"total\", [24, 67, 22, 98, 3, 50], sum)"
      ]
    },
    {
      "cell_type": "code",
      "execution_count": null,
      "metadata": {
        "colab": {
          "base_uri": "https://localhost:8080/"
        },
        "id": "hJexc7AGcTRN",
        "outputId": "5ee1ec54-042c-478a-dcee-8d01d0f5de70"
      },
      "outputs": [
        {
          "name": "stdout",
          "output_type": "stream",
          "text": [
            "Hasil agregate Max : 98\n"
          ]
        }
      ],
      "source": [
        "aggregate(\"Max\", [24, 67, 22, 98, 3, 50], max)"
      ]
    },
    {
      "cell_type": "code",
      "execution_count": null,
      "metadata": {
        "colab": {
          "base_uri": "https://localhost:8080/"
        },
        "id": "kmDmzh2Vca4T",
        "outputId": "3157001e-2367-4081-bdca-95287cdb0b44"
      },
      "outputs": [
        {
          "name": "stdout",
          "output_type": "stream",
          "text": [
            "Hasil agregate Min : 3\n"
          ]
        }
      ],
      "source": [
        "aggregate(\"Min\", [24, 67, 22, 98, 3, 50], min)"
      ]
    },
    {
      "cell_type": "markdown",
      "metadata": {
        "id": "MI8_i6y0OZ94"
      },
      "source": [
        "## Soal 1\n",
        "\n",
        "Buatlah script “kalkulator” yang terdiri dari dua parameter “x” dan “y” yang akan diisi angka dan parameter “operasi” yang akan diisi nama operasi seperti “penjumlahan”, “pengurangan”, “perkalian” dan “pembagian”\n",
        "\n",
        "Input:\n",
        "kalkulator(a = 10, b = 4, operasi = “penjumlahan”)\n",
        "\n",
        "Output:\n",
        "14\n"
      ]
    },
    {
      "cell_type": "code",
      "execution_count": null,
      "metadata": {
        "colab": {
          "base_uri": "https://localhost:8080/"
        },
        "id": "FFOPkbWTcWBb",
        "outputId": "21529e3d-d963-49c7-c6ba-e43067abccf0"
      },
      "outputs": [
        {
          "name": "stdout",
          "output_type": "stream",
          "text": [
            "9\n"
          ]
        }
      ],
      "source": [
        "def kalkulator(x, y, operasi):\n",
        "    if operasi == \"penjumlahan\":\n",
        "        return x + y\n",
        "    elif operasi == \"pengurangan\":\n",
        "        return x - y\n",
        "    elif operasi == \"perkalian\":\n",
        "        return x * y\n",
        "    elif operasi == \"pembagian\":\n",
        "        if y != 0:\n",
        "            return x / y\n",
        "        else:\n",
        "            return \"Error: Pembagian dengan nol tidak diperbolehkan.\"\n",
        "    else:\n",
        "        return \"Error: Operasi tidak dikenali.\"\n",
        "\n",
        "# Contoh penggunaan\n",
        "x = 12\n",
        "y = 3\n",
        "operasi = \"pengurangan\"\n",
        "hasil = kalkulator(x, y, operasi)\n",
        "print(hasil)\n"
      ]
    },
    {
      "cell_type": "markdown",
      "metadata": {
        "id": "xoubsJWOHHy-"
      },
      "source": [
        "## Soal 2\n",
        "\n",
        "Buat lah 3 fungsi yang didalamnya terdapat :\n",
        "\n",
        "* conditional if\n",
        "* condition loop\n",
        "* args dan kwargs"
      ]
    },
    {
      "cell_type": "code",
      "execution_count": null,
      "metadata": {
        "colab": {
          "base_uri": "https://localhost:8080/"
        },
        "id": "yT2ELx6dfNlv",
        "outputId": "da9af563-52d6-4413-ddcf-05a4089713bf"
      },
      "outputs": [
        {
          "name": "stdout",
          "output_type": "stream",
          "text": [
            "4 adalah angka genap.\n"
          ]
        }
      ],
      "source": [
        "#Fungsi dengan conditional if\n",
        "\n",
        "def cek_genap_ganjil(angka):\n",
        "    if angka % 2 == 0:\n",
        "        return f\"{angka} adalah angka genap.\"\n",
        "    else:\n",
        "        return f\"{angka} adalah angka ganjil.\"\n",
        "\n",
        "# Contoh penggunaan\n",
        "angka_input = 4\n",
        "hasil = cek_genap_ganjil(angka_input)\n",
        "print(hasil)\n"
      ]
    },
    {
      "cell_type": "code",
      "execution_count": null,
      "metadata": {
        "colab": {
          "base_uri": "https://localhost:8080/"
        },
        "id": "NUqK8GrYhOmY",
        "outputId": "ef6d8127-2bc9-4383-dc4b-36c1179d5478"
      },
      "outputs": [
        {
          "name": "stdout",
          "output_type": "stream",
          "text": [
            "Jumlah bilangan genap: 5\n"
          ]
        }
      ],
      "source": [
        "#Fungsi dengan condition loop\n",
        "\n",
        "def hitung_angka_genap(numbers):\n",
        "    count = 0\n",
        "    for num in numbers:\n",
        "        if num % 2 == 0:\n",
        "            count += 1\n",
        "    return count\n",
        "\n",
        "# Contoh penggunaan\n",
        "list_angka = [1, 2, 3, 4, 5, 6, 7, 8, 9, 10]\n",
        "print(\"Jumlah bilangan genap:\", hitung_angka_genap(list_angka))\n"
      ]
    },
    {
      "cell_type": "code",
      "execution_count": null,
      "metadata": {
        "colab": {
          "base_uri": "https://localhost:8080/"
        },
        "id": "8kNH0ZECjY6t",
        "outputId": "cd8ecc49-968d-46b2-eb1f-1b8d72655923"
      },
      "outputs": [
        {
          "name": "stdout",
          "output_type": "stream",
          "text": [
            "Hasil penjumlahan: 15\n"
          ]
        }
      ],
      "source": [
        "#fungsi dengan args\n",
        "\n",
        "def jumlahkan_angka(*args):\n",
        "    total = sum(args)\n",
        "    return total\n",
        "\n",
        "# Contoh penggunaan\n",
        "hasil = jumlahkan_angka(1, 2, 3, 4, 5)\n",
        "print(f\"Hasil penjumlahan: {hasil}\")\n"
      ]
    },
    {
      "cell_type": "code",
      "execution_count": null,
      "metadata": {
        "colab": {
          "base_uri": "https://localhost:8080/"
        },
        "id": "S7DGZ4Tvotq2",
        "outputId": "624e087f-5328-4faf-c386-b80ec9eb446e"
      },
      "outputs": [
        {
          "name": "stdout",
          "output_type": "stream",
          "text": [
            "Nama: Apredo\n",
            "Hobi: berenang\n",
            "Alamat: Medan\n"
          ]
        }
      ],
      "source": [
        "#fungsi dengan kwargs\n",
        "\n",
        "def identitas(**kwargs):\n",
        "  for key in kwargs:\n",
        "    print(key + \": \" + kwargs[key])\n",
        "\n",
        "\n",
        "coba_fungsi10(Nama = \"Apredo\", Hobi = \"berenang\", Alamat = \"Medan\")"
      ]
    },
    {
      "cell_type": "code",
      "execution_count": null,
      "metadata": {
        "colab": {
          "base_uri": "https://localhost:8080/"
        },
        "id": "XkqpsxsLlU8Q",
        "outputId": "9fd48fc9-7081-4345-d5d1-1fe5477e3a98"
      },
      "outputs": [
        {
          "name": "stdout",
          "output_type": "stream",
          "text": [
            "Nama: Apredo\n",
            "Hobi: ('badminton', 'berenang', 'sepak bola')\n",
            "Lainnya: {'umur': 21, 'tinggi': 170, 'Jk': 'Laki-laki', 'alamat': 'medan'}\n"
          ]
        }
      ],
      "source": [
        "#Fungsi dengan args dan kwargs\n",
        "\n",
        "def cetak_identitas(nama, *hobi,  **others):\n",
        "    print(f\"Nama: {nama}\")\n",
        "    print(f\"Hobi: {hobi}\")\n",
        "    print(f\"Lainnya: {others}\")\n",
        "\n",
        "cetak_identitas(\"Apredo\", \"badminton\", \"berenang\", \"sepak bola\", umur=21, tinggi=170, Jk=\"Laki-laki\", alamat=\"medan\")\n"
      ]
    },
    {
      "cell_type": "markdown",
      "metadata": {
        "id": "yOk8VeDdHFkF"
      },
      "source": [
        "## Soal 3\n",
        "\n",
        "Fungsi dengan argument kenapa hasilnya 103?"
      ]
    },
    {
      "cell_type": "code",
      "execution_count": null,
      "metadata": {
        "colab": {
          "base_uri": "https://localhost:8080/"
        },
        "id": "-XhiaQvxrc7j",
        "outputId": "965d0885-359f-4a49-d4af-eb0ef3cb136e"
      },
      "outputs": [
        {
          "name": "stdout",
          "output_type": "stream",
          "text": [
            "masukkan nilai 1 = 10\n",
            "masukkan nilai 2 = 3\n",
            "Hasil penjumlahan:  103\n"
          ]
        }
      ],
      "source": [
        "def coba_fungsi4(a, b):\n",
        "  var_a = a\n",
        "  var_b = b\n",
        "  var_c = var_a + var_b\n",
        "  return var_c\n",
        "\n",
        "hasil_nilai = coba_fungsi4(input(\"masukkan nilai 1 = \"), input(\"masukkan nilai 2 = \"))\n",
        "print(\"Hasil penjumlahan: \", hasil_nilai)\n"
      ]
    },
    {
      "cell_type": "markdown",
      "metadata": {
        "id": "XGbdLFVOttEd"
      },
      "source": [
        "Outputnya menjadi 103 karena ketika kita menggunakan fungsi input(), semua input yang diterima adalah dalam bentuk string. Ketika kita menjalankan input(\"masukkan nilai 1 = \"), dan memasukkan 10, maka fungsi input() akan mengembalikan string \"10\". Begitu juga dengan input kedua, jika kita memasukkan 3, maka hasilnya adalah string \"3\".\n",
        "\n",
        "Sehingga output yang dihasilkan menjadi 103."
      ]
    }
  ],
  "metadata": {
    "colab": {
      "provenance": [],
      "include_colab_link": true
    },
    "kernelspec": {
      "display_name": "Python 3",
      "name": "python3"
    },
    "language_info": {
      "name": "python"
    }
  },
  "nbformat": 4,
  "nbformat_minor": 0
}
